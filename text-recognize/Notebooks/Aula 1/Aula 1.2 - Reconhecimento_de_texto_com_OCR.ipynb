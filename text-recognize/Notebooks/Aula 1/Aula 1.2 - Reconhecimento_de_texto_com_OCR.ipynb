{
  "nbformat": 4,
  "nbformat_minor": 0,
  "metadata": {
    "colab": {
      "name": "Reconhecimento de texto com OCR.ipynb",
      "provenance": [],
      "collapsed_sections": [
        "c0r-LVU7-g1g",
        "B39If7Dp-l0g",
        "G6tCg9jU-tKv",
        "4VvkoKX2-ynY",
        "GtI86YTX-1FZ",
        "A4GkqaOh-4uf",
        "4MT3_VA7_K0g"
      ]
    },
    "kernelspec": {
      "name": "python3",
      "display_name": "Python 3"
    },
    "language_info": {
      "name": "python"
    }
  },
  "cells": [
    {
      "cell_type": "markdown",
      "source": [
        "# Aula 1"
      ],
      "metadata": {
        "id": "e7dDH6Ar-pMA"
      }
    },
    {
      "cell_type": "markdown",
      "source": [
        "## Introdução ao OCR"
      ],
      "metadata": {
        "id": "Njk5DLzl9NKx"
      }
    },
    {
      "cell_type": "markdown",
      "source": [
        "### Como o OCR funciona?\n",
        "* Aquisição da imagem\n",
        "* Pré-processamento\n",
        "* Reconhecimento de texto\n",
        "  - Reconhecimento de padrões\n",
        "  - Detecção de recursos\n",
        "* Pós-processamento\n",
        "\n",
        "\n",
        "\n",
        "Existem diversas ferramentas disponíveis para serem utilizadas e nós vamos utilizar o [`pytesseract`](https://pypi.org/project/pytesseract/), que é uma biblioteca do Python que permite com que possamos utilizar o [`Tesseract OCR`](https://tesseract-ocr.github.io/), que é um recurso open source da Google e funciona com a OCR Engine. Por ser um recurso open source tem um [`repositório no GitHub`](https://github.com/tesseract-ocr/tesseract), e mais de 100 línguas no seu vocabulário, além de ser possível fazer com que ele aprenda novas linguagens."
      ],
      "metadata": {
        "id": "IOIzx6fz9hq4"
      }
    },
    {
      "cell_type": "markdown",
      "source": [
        "## OCR no Colab"
      ],
      "metadata": {
        "id": "c0r-LVU7-g1g"
      }
    },
    {
      "cell_type": "markdown",
      "source": [
        "As bibliotecas não são instaladas previamente no Google Colaboratory, então é necessário que a instalação seja feita utilizando o pip.\n",
        "\n",
        "\n",
        "\n",
        "```\n",
        "!pip install opencv-python==4.6.0\n",
        "!sudo apt install tesseract-ocr\n",
        "!pip install pytesseract==0.3.9\n",
        "```\n",
        "\n",
        "E os dados utilizados no curso serão importados utilizando o `!git clone` da pasta [`text-recognize`](https://github.com/sthemonica/text-recognize), afim de facilitar a importação de arquivos."
      ],
      "metadata": {
        "id": "9vxBYYllAYcI"
      }
    },
    {
      "cell_type": "code",
      "execution_count": null,
      "metadata": {
        "id": "uB-CVU3G1Irn"
      },
      "outputs": [],
      "source": [
        ""
      ]
    },
    {
      "cell_type": "markdown",
      "source": [
        "## Imagens BGR\n"
      ],
      "metadata": {
        "id": "B39If7Dp-l0g"
      }
    },
    {
      "cell_type": "markdown",
      "source": [
        "O OpenCV tem seus canais de cores invertidos, então para utilizarmos com outras bibliotecas precisamos fazer a conversão de BGR para RGB. \n",
        "Existem outros tipos de conversões que podem ser feitas e a lista pode ser acessada no site da [documentação do OpenCV](https://docs.opencv.org/3.4/d8/d01/group__imgproc__color__conversions.html)."
      ],
      "metadata": {
        "id": "MUnRsSCNAPqH"
      }
    },
    {
      "cell_type": "code",
      "source": [
        ""
      ],
      "metadata": {
        "id": "YeGbFPSf-n7H"
      },
      "execution_count": null,
      "outputs": []
    },
    {
      "cell_type": "markdown",
      "source": [
        "# Aula 2"
      ],
      "metadata": {
        "id": "vXZn2Kg0-rxw"
      }
    },
    {
      "cell_type": "markdown",
      "source": [
        "## Caracteres diferentes"
      ],
      "metadata": {
        "id": "G6tCg9jU-tKv"
      }
    },
    {
      "cell_type": "code",
      "source": [
        ""
      ],
      "metadata": {
        "id": "FFaj5yKM-swz"
      },
      "execution_count": null,
      "outputs": []
    },
    {
      "cell_type": "code",
      "source": [
        ""
      ],
      "metadata": {
        "id": "9b_EuBErBMXQ"
      },
      "execution_count": null,
      "outputs": []
    },
    {
      "cell_type": "markdown",
      "source": [
        "As palavras **frequência** e **observações** não conseguiram ser traduzidas de uma forma boa o suficiente, o que nos faz pensar que o Tesseract está com algum problema e vamos verificar quais as listas de línguas que estão instaladas atualmente no sistema para auxiliar na leitura das nossas imagens, para isso usamos:\n",
        "\n",
        "```\n",
        "!tesseract --list-langs\n",
        "```"
      ],
      "metadata": {
        "id": "iO78z2q9BMrB"
      }
    },
    {
      "cell_type": "code",
      "source": [
        ""
      ],
      "metadata": {
        "id": "gy94FE6sBReZ"
      },
      "execution_count": null,
      "outputs": []
    },
    {
      "cell_type": "code",
      "source": [
        ""
      ],
      "metadata": {
        "id": "HXoGMNkbBU2B"
      },
      "execution_count": null,
      "outputs": []
    },
    {
      "cell_type": "code",
      "source": [
        ""
      ],
      "metadata": {
        "id": "Kaj4gUMgBUuQ"
      },
      "execution_count": null,
      "outputs": []
    },
    {
      "cell_type": "markdown",
      "source": [
        "Agora já temos o português instalado e podemos passar novamente a imagem e definir que ela seja \"lida\" pelo Tesseract usando o português, para isso contamos com o  método `lang`."
      ],
      "metadata": {
        "id": "LJBIyU2qBT3x"
      }
    },
    {
      "cell_type": "code",
      "source": [
        ""
      ],
      "metadata": {
        "id": "9uexltTiBWnQ"
      },
      "execution_count": null,
      "outputs": []
    },
    {
      "cell_type": "markdown",
      "source": [
        "## PSM"
      ],
      "metadata": {
        "id": "4VvkoKX2-ynY"
      }
    },
    {
      "cell_type": "markdown",
      "source": [
        "Page Segmentation Mode (PSM) ou em uma tradução livre modos de segmentação de página."
      ],
      "metadata": {
        "id": "dG8xOFPsBZ1Y"
      }
    },
    {
      "cell_type": "code",
      "source": [
        ""
      ],
      "metadata": {
        "id": "WzYzkfXl-0r_"
      },
      "execution_count": null,
      "outputs": []
    },
    {
      "cell_type": "markdown",
      "source": [
        "## Biblioteca Pillow"
      ],
      "metadata": {
        "id": "GtI86YTX-1FZ"
      }
    },
    {
      "cell_type": "markdown",
      "source": [
        "Biblioteca Pillow, que é mais conhecida pelo seu nome antigo, **PIL**: Python Imaging Library. "
      ],
      "metadata": {
        "id": "PD1RRqBRBogA"
      }
    },
    {
      "cell_type": "code",
      "source": [
        ""
      ],
      "metadata": {
        "id": "1lvNslX7-4Kx"
      },
      "execution_count": null,
      "outputs": []
    },
    {
      "cell_type": "markdown",
      "source": [
        "**Método utilizado:**\n",
        "\n",
        "```\n",
        "pytesseract.image_to_osd()\n",
        "```\n",
        "\n",
        "\n",
        "OSD significa Orientation and Script Detection e o seu retorno são os \"metadados\" da imagem."
      ],
      "metadata": {
        "id": "qEIHWaAxB3Lp"
      }
    },
    {
      "cell_type": "code",
      "source": [
        ""
      ],
      "metadata": {
        "id": "SMpoDzPrB205"
      },
      "execution_count": null,
      "outputs": []
    },
    {
      "cell_type": "markdown",
      "source": [
        "# Aula 3"
      ],
      "metadata": {
        "id": "A4GkqaOh-4uf"
      }
    },
    {
      "cell_type": "markdown",
      "source": [
        "## Selecionando textos"
      ],
      "metadata": {
        "id": "t51r251C-7bZ"
      }
    },
    {
      "cell_type": "code",
      "source": [
        ""
      ],
      "metadata": {
        "id": "MiNKzvOb-5fN"
      },
      "execution_count": null,
      "outputs": []
    },
    {
      "cell_type": "markdown",
      "source": [
        "## Caixa delimitadora"
      ],
      "metadata": {
        "id": "K0-AVSC_-9DY"
      }
    },
    {
      "cell_type": "code",
      "source": [
        ""
      ],
      "metadata": {
        "id": "faCMB9Vi_BPH"
      },
      "execution_count": null,
      "outputs": []
    },
    {
      "cell_type": "markdown",
      "source": [
        "## Caixa e texto"
      ],
      "metadata": {
        "id": "tZxHtOvk_C6R"
      }
    },
    {
      "cell_type": "code",
      "source": [
        ""
      ],
      "metadata": {
        "id": "L72zCfZ8_EZQ"
      },
      "execution_count": null,
      "outputs": []
    },
    {
      "cell_type": "markdown",
      "source": [
        "## Fontes"
      ],
      "metadata": {
        "id": "1YQYiJH9_FZw"
      }
    },
    {
      "cell_type": "code",
      "source": [
        ""
      ],
      "metadata": {
        "id": "G28w3094_GSv"
      },
      "execution_count": null,
      "outputs": []
    },
    {
      "cell_type": "markdown",
      "source": [
        "## Função para fontes"
      ],
      "metadata": {
        "id": "9Bi5OAK4_Gxw"
      }
    },
    {
      "cell_type": "code",
      "source": [
        ""
      ],
      "metadata": {
        "id": "89BpagLP_Jtq"
      },
      "execution_count": null,
      "outputs": []
    },
    {
      "cell_type": "markdown",
      "source": [
        "# Aula 4"
      ],
      "metadata": {
        "id": "4MT3_VA7_K0g"
      }
    },
    {
      "cell_type": "markdown",
      "source": [
        "## Busca de informações"
      ],
      "metadata": {
        "id": "OR9quoIj_MH_"
      }
    },
    {
      "cell_type": "code",
      "source": [
        ""
      ],
      "metadata": {
        "id": "mXpshddg_LuM"
      },
      "execution_count": null,
      "outputs": []
    },
    {
      "cell_type": "markdown",
      "source": [
        "## Destaque de informações"
      ],
      "metadata": {
        "id": "f7lOZ5Rx_OMJ"
      }
    },
    {
      "cell_type": "code",
      "source": [
        ""
      ],
      "metadata": {
        "id": "5Tb_ZUSA_QmD"
      },
      "execution_count": null,
      "outputs": []
    },
    {
      "cell_type": "markdown",
      "source": [
        "## Cenários naturais"
      ],
      "metadata": {
        "id": "-UhO6UaB_SXI"
      }
    },
    {
      "cell_type": "code",
      "source": [
        ""
      ],
      "metadata": {
        "id": "9eIfXbH-_TEv"
      },
      "execution_count": null,
      "outputs": []
    },
    {
      "cell_type": "markdown",
      "source": [
        "## Falsos positivos"
      ],
      "metadata": {
        "id": "tNFTsqVT_XOA"
      }
    },
    {
      "cell_type": "code",
      "source": [
        ""
      ],
      "metadata": {
        "id": "9YIykI9e_X50"
      },
      "execution_count": null,
      "outputs": []
    }
  ]
}